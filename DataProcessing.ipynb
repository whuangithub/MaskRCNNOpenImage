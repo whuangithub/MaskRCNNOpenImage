{
 "cells": [
  {
   "cell_type": "code",
   "execution_count": 1,
   "metadata": {},
   "outputs": [],
   "source": [
    "#############################################################################################\n",
    "# The code is running \n",
    "# on docker tensorflow/tensorflow:1.15.0-gpu-py3 (with additional packages: scikit/scikit-image/keras)\n",
    "############################################################################################\n",
    "# this notebook is to randomly pick images as training/validation/test set\n",
    "\n",
    "# return a list of the file nmaes in the dirtory\n",
    "from os import listdir\n",
    "import pandas as pd\n",
    "import random\n",
    "import csv"
   ]
  },
  {
   "cell_type": "code",
   "execution_count": 2,
   "metadata": {},
   "outputs": [],
   "source": [
    "data_dir = '/HDD1/Downloads/OpenImageV5/'\n",
    "train_image_dir = data_dir+\"/Train\"\n",
    "file_list = listdir(train_image_dir)"
   ]
  },
  {
   "cell_type": "code",
   "execution_count": 3,
   "metadata": {},
   "outputs": [],
   "source": [
    "# shuffle the file list and \n",
    "random.shuffle(file_list)\n",
    "# pick the first 8000 images as training set\n",
    "training_image_list = []\n",
    "for name in file_list[0:8000]:\n",
    "    training_image_list.append(name[:-4])\n",
    "# 8000 to 9000 as validation set\n",
    "validation_image_list = []\n",
    "for name in file_list[8000:9000]:\n",
    "    validation_image_list.append(name[:-4])\n",
    "# 9000 tp 10000 as test set\n",
    "test_image_list = []\n",
    "for name in file_list[9000:10000]:\n",
    "    test_image_list.append(name[:-4])\n",
    "    \n",
    "with open(data_dir+'MyData/training_image_list.csv','w') as file:\n",
    "    wr = csv.writer(file,quoting=csv.QUOTE_ALL)\n",
    "    wr.writerow(training_image_list)\n",
    "with open(data_dir+'MyData/validation_image_list.csv','w') as file:\n",
    "    wr = csv.writer(file,quoting=csv.QUOTE_ALL)\n",
    "    wr.writerow(validation_image_list)\n",
    "with open(data_dir+'MyData/test_image_list.csv','w') as file:\n",
    "    wr = csv.writer(file,quoting=csv.QUOTE_ALL)\n",
    "    wr.writerow(test_image_list)"
   ]
  },
  {
   "cell_type": "code",
   "execution_count": 4,
   "metadata": {},
   "outputs": [],
   "source": [
    "# make the new dataset\n",
    "train_original_data = pd.read_csv(data_dir+\"train-annotations-bbox.csv\")"
   ]
  },
  {
   "cell_type": "code",
   "execution_count": 5,
   "metadata": {},
   "outputs": [],
   "source": [
    "# pick the row that the imageID is in the training/vaidation/test list\n",
    "training_data_set=train_original_data.loc[train_original_data['ImageID'].isin(training_image_list)]\n",
    "validation_data_set=train_original_data.loc[train_original_data['ImageID'].isin(validation_image_list)]\n",
    "test_data_set=train_original_data.loc[train_original_data['ImageID'].isin(test_image_list)]\n"
   ]
  },
  {
   "cell_type": "code",
   "execution_count": 6,
   "metadata": {},
   "outputs": [],
   "source": [
    "training_data_set.to_csv(data_dir+'MyData/training_data_set.csv')\n",
    "validation_data_set.to_csv(data_dir+'MyData/validation_data_set.csv')\n",
    "test_data_set.to_csv(data_dir+'MyData/test_data_set.csv')"
   ]
  },
  {
   "cell_type": "code",
   "execution_count": null,
   "metadata": {},
   "outputs": [],
   "source": []
  }
 ],
 "metadata": {
  "kernelspec": {
   "display_name": "Python 3",
   "language": "python",
   "name": "python3"
  },
  "language_info": {
   "codemirror_mode": {
    "name": "ipython",
    "version": 3
   },
   "file_extension": ".py",
   "mimetype": "text/x-python",
   "name": "python",
   "nbconvert_exporter": "python",
   "pygments_lexer": "ipython3",
   "version": "3.6.8"
  }
 },
 "nbformat": 4,
 "nbformat_minor": 4
}
